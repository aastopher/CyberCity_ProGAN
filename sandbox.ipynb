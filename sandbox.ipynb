{
 "cells": [
  {
   "cell_type": "code",
   "execution_count": 1,
   "metadata": {},
   "outputs": [],
   "source": [
    "from PIL import Image\n",
    "from pathlib import Path\n",
    "import os\n",
    "\n",
    "CWD = os.getcwd() # current working directory\n",
    "img_list = os.listdir(Path(f\"{CWD}/imgs/imgs/\"))\n",
    "width_list, height_list = [], []\n",
    "for img in img_list:\n",
    "    img_path = Path(f\"{CWD}/imgs/imgs/{img}\")\n",
    "    img = Image.open(img_path)\n",
    "    width_list.append(img.size[0])\n",
    "    height_list.append(img.size[1])\n",
    "print(max(width_list),max(height_list))\n",
    "print(min(width_list),min(height_list))"
   ]
  },
  {
   "cell_type": "code",
   "execution_count": 2,
   "metadata": {},
   "outputs": [
    {
     "data": {
      "text/plain": [
       "[10, 12, 15, 18, 21, 24, 27, 30]"
      ]
     },
     "execution_count": 2,
     "metadata": {},
     "output_type": "execute_result"
    }
   ],
   "source": [
    "import numpy as np\n",
    "\n",
    "BATCH_SIZES = [32, 32, 32, 16, 16, 8, 8, 4] # tune for my GPU\n",
    "# PROGRESSIVE_EPOCHS = [30] * len(BATCH_SIZES)\n",
    "PROGRESSIVE_EPOCHS = list(np.linspace(10, 30, len(BATCH_SIZES), dtype=int))\n",
    "PROGRESSIVE_EPOCHS"
   ]
  }
 ],
 "metadata": {
  "kernelspec": {
   "display_name": "Python 3.9.13 ('py309': venv)",
   "language": "python",
   "name": "python3"
  },
  "language_info": {
   "codemirror_mode": {
    "name": "ipython",
    "version": 3
   },
   "file_extension": ".py",
   "mimetype": "text/x-python",
   "name": "python",
   "nbconvert_exporter": "python",
   "pygments_lexer": "ipython3",
   "version": "3.9.13"
  },
  "orig_nbformat": 4,
  "vscode": {
   "interpreter": {
    "hash": "0bc65f2bf3d2a0f29751611fa3005bd3fd265ee8bd01417e9d929835e1c4378f"
   }
  }
 },
 "nbformat": 4,
 "nbformat_minor": 2
}
